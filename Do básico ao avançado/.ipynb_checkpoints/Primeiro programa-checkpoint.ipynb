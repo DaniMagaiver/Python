{
 "cells": [
  {
   "cell_type": "markdown",
   "id": "fd9c8347",
   "metadata": {},
   "source": [
    "# Primeiros Exemplos"
   ]
  },
  {
   "cell_type": "code",
   "execution_count": 10,
   "id": "db8b1119",
   "metadata": {},
   "outputs": [
    {
     "name": "stdout",
     "output_type": "stream",
     "text": [
      "primeiro programa\n",
      "Help on built-in function print in module builtins:\n",
      "\n",
      "print(...)\n",
      "    print(value, ..., sep=' ', end='\\n', file=sys.stdout, flush=False)\n",
      "    \n",
      "    Prints the values to a stream, or to sys.stdout by default.\n",
      "    Optional keyword arguments:\n",
      "    file:  a file-like object (stream); defaults to the current sys.stdout.\n",
      "    sep:   string inserted between values, default a space.\n",
      "    end:   string appended after the last value, default a newline.\n",
      "    flush: whether to forcibly flush the stream.\n",
      "\n"
     ]
    }
   ],
   "source": [
    "print('primeiro programa')\n",
    "1 \\\n",
    " + 2\n",
    "\n",
    "help(print)"
   ]
  },
  {
   "cell_type": "code",
   "execution_count": 15,
   "id": "7698e10d",
   "metadata": {},
   "outputs": [
    {
     "data": {
      "text/plain": [
       "18"
      ]
     },
     "execution_count": 15,
     "metadata": {},
     "output_type": "execute_result"
    }
   ],
   "source": [
    "1 + 2 + 3\n",
    "7 + 5 + 6"
   ]
  },
  {
   "cell_type": "markdown",
   "id": "01e42d48",
   "metadata": {},
   "source": [
    "# Tipos Básicos"
   ]
  },
  {
   "cell_type": "code",
   "execution_count": 23,
   "id": "12170b9d",
   "metadata": {},
   "outputs": [
    {
     "name": "stdout",
     "output_type": "stream",
     "text": [
      "True\n",
      "False\n",
      "2.2\n",
      "Aqui eu falo minha língua\n",
      "Tbm funciona\n",
      "Você é muito muito muito legal\n",
      "[1, 2, 3]\n",
      "{'nome': 'Pedro', 'idade': 22}\n",
      "None\n"
     ]
    }
   ],
   "source": [
    "print(True)\n",
    "print(False)\n",
    "print(1.2 + 1)\n",
    "print('Aqui eu falo minha língua')\n",
    "print(\"Tbm funciona\")\n",
    "print('Você é ' + 3 * 'muito ' + 'legal')\n",
    "#print(3 + '3') -> ambiguidade\n",
    "print([1, 2, 3])\n",
    "print({'nome':'Pedro', 'idade':22})\n",
    "print(None)"
   ]
  },
  {
   "cell_type": "markdown",
   "id": "9876156f",
   "metadata": {},
   "source": [
    "# Variáveis "
   ]
  },
  {
   "cell_type": "code",
   "execution_count": 27,
   "id": "28bc6c6e",
   "metadata": {},
   "outputs": [
    {
     "name": "stdout",
     "output_type": "stream",
     "text": [
      "15.2\n",
      "Agora sou uma string\n"
     ]
    }
   ],
   "source": [
    "a = 10\n",
    "b = 5.2\n",
    "print(a + b)\n",
    "\n",
    "a = 'Agora sou uma string'\n",
    "print(a)"
   ]
  },
  {
   "cell_type": "raw",
   "id": "28ef6952",
   "metadata": {},
   "source": [
    "O python é uma linguagem dinâmicamente tipada com tipagem forte, ou seja é possível utilizar diferentes tipos de conteúdo para uma mesma variável e ao mesmo tempo o interpretador sempre saberá qual tipo de váriavel se trata."
   ]
  },
  {
   "cell_type": "markdown",
   "id": "956170c1",
   "metadata": {},
   "source": [
    "# Comentários "
   ]
  },
  {
   "cell_type": "code",
   "execution_count": 32,
   "id": "bcef5f7f",
   "metadata": {},
   "outputs": [
    {
     "name": "stdout",
     "output_type": "stream",
     "text": [
      "-0.8800000000001091\n",
      "Fim de verdade\n"
     ]
    }
   ],
   "source": [
    "# Minhas variáveis\n",
    "salario = 2344.45\n",
    "despesas = 2345.33\n",
    "\n",
    "'''\n",
    "A ideia é calcula o\n",
    "quanto vai sobrar no final\n",
    "do mês\n",
    "'''\n",
    "print(salario - despesas)\n",
    "\n",
    "#print('Fim')\n",
    "print('Fim de verdade')"
   ]
  },
  {
   "cell_type": "markdown",
   "id": "8c763987",
   "metadata": {},
   "source": [
    "# Operadores aritméticos"
   ]
  },
  {
   "cell_type": "code",
   "execution_count": 38,
   "id": "69cb232f",
   "metadata": {
    "scrolled": true
   },
   "outputs": [
    {
     "name": "stdout",
     "output_type": "stream",
     "text": [
      "5\n",
      "-3\n",
      "10.6\n",
      "3.1333333333333333\n",
      "3.0\n",
      "256\n",
      "1\n",
      "24\n"
     ]
    }
   ],
   "source": [
    "print(2 + 3)\n",
    "print(4 - 7)\n",
    "print(2 * 5.3)\n",
    "print(9.4 / 3)\n",
    "print(9.4 // 3)\n",
    "print(2 ** 8)\n",
    "print(10 % 3)\n",
    "a = 12\n",
    "b = a\n",
    "print(a + b)"
   ]
  },
  {
   "cell_type": "markdown",
   "id": "8c31acf0",
   "metadata": {},
   "source": [
    "# Desafio 1"
   ]
  },
  {
   "cell_type": "code",
   "execution_count": 48,
   "id": "d1162377",
   "metadata": {},
   "outputs": [
    {
     "data": {
      "text/plain": [
       "71.1849179092582"
      ]
     },
     "execution_count": 48,
     "metadata": {},
     "output_type": "execute_result"
    }
   ],
   "source": [
    "# Minhas variáveis\n",
    "salario = 3450.45\n",
    "despesas = 2456.2\n",
    "percentual_gastos = (2456.2 * 100) / 3450.45\n",
    "\n",
    "# Resposta do desafio\n",
    "percentual_gastos"
   ]
  },
  {
   "cell_type": "markdown",
   "id": "4440d6aa",
   "metadata": {},
   "source": [
    "# Operadores Relacionais"
   ]
  },
  {
   "cell_type": "code",
   "execution_count": 52,
   "id": "4354ec0a",
   "metadata": {},
   "outputs": [
    {
     "data": {
      "text/plain": [
       "False"
      ]
     },
     "execution_count": 52,
     "metadata": {},
     "output_type": "execute_result"
    }
   ],
   "source": [
    "3 > 4\n",
    "4 >= 3\n",
    "1 < 2\n",
    "3 <= 1\n",
    "3 != 2\n",
    "3 == 3\n",
    "2 == '2'"
   ]
  },
  {
   "cell_type": "markdown",
   "id": "77750079",
   "metadata": {},
   "source": [
    "# Operadores de atribuição"
   ]
  },
  {
   "cell_type": "code",
   "execution_count": 58,
   "id": "e0a92a1b",
   "metadata": {},
   "outputs": [
    {
     "name": "stdout",
     "output_type": "stream",
     "text": [
      "10\n",
      "15\n",
      "12\n",
      "24\n",
      "6.0\n",
      "2.0\n",
      "256.0\n",
      "1.0\n"
     ]
    }
   ],
   "source": [
    "a = 3\n",
    "a = a + 7\n",
    "print(a)\n",
    "\n",
    "a += 5\n",
    "print(a)\n",
    "\n",
    "a -= 3\n",
    "print(a)\n",
    "\n",
    "a *= 2\n",
    "print(a)\n",
    "\n",
    "a /= 4\n",
    "print(a)\n",
    "\n",
    "a %= 4\n",
    "print(a)\n",
    "\n",
    "a **= 8\n",
    "print(a)\n",
    "\n",
    "a //= 256\n",
    "print(a)"
   ]
  },
  {
   "cell_type": "markdown",
   "id": "9042d658",
   "metadata": {},
   "source": [
    "# Operadores Lógicos"
   ]
  },
  {
   "cell_type": "code",
   "execution_count": 65,
   "id": "ddca0536",
   "metadata": {},
   "outputs": [
    {
     "data": {
      "text/plain": [
       "True"
      ]
     },
     "execution_count": 65,
     "metadata": {},
     "output_type": "execute_result"
    }
   ],
   "source": [
    "True or False\n",
    "7 != 3 and 2 > 3\n",
    "\n",
    "# Tabela verdade do AND\n",
    "True and True\n",
    "True and False\n",
    "True and True\n",
    "False and False\n",
    "\n",
    "# Tabela verdade do OR\n",
    "True or True\n",
    "True or False\n",
    "False or True\n",
    "False or False\n",
    "\n",
    "# Tabela verdade do XOR\n",
    "True != True\n",
    "True != False\n",
    "False != True\n",
    "False != False\n",
    "\n",
    "#Operador de Negação (unário)\n",
    "not True\n",
    "not False\n",
    "\n",
    "not 0\n",
    "not 1\n",
    "not not -1\n",
    "not not True\n",
    "\n",
    "#Cuidado, operadores bit a bit!\n",
    "True & False\n",
    "False | True\n",
    "True ^ False"
   ]
  },
  {
   "cell_type": "code",
   "execution_count": 67,
   "id": "cfa8ecea",
   "metadata": {},
   "outputs": [
    {
     "name": "stdout",
     "output_type": "stream",
     "text": [
      "Tv50=False Tv32=False Sorvete=False Saudável=True\n"
     ]
    }
   ],
   "source": [
    "# Desafio Operadores Lógicos\n",
    "\n",
    "# Os Trabalhos\n",
    "trabalho_terca = False\n",
    "trabalho_quinta = False\n",
    "'''\n",
    "- Confirmando os 2: TV 50' + Sorvete\n",
    "- Confirmando apenas 1: TV 32' + Sorvete\n",
    "- Nenhum confirmado: Fica em casa\n",
    "'''\n",
    "tv_50 = trabalho_terca and trabalho_quinta\n",
    "sorvete = trabalho_terca or trabalho_quinta\n",
    "tv_32 = trabalho_terca != trabalho_quinta #xor\n",
    "mais_saudavel = not sorvete\n",
    "\n",
    "print(\"Tv50={} Tv32={} Sorvete={} Saudável={}\".format(tv_50,tv_32,sorvete,mais_saudavel))\n"
   ]
  }
 ],
 "metadata": {
  "kernelspec": {
   "display_name": "Python 3",
   "language": "python",
   "name": "python3"
  },
  "language_info": {
   "codemirror_mode": {
    "name": "ipython",
    "version": 3
   },
   "file_extension": ".py",
   "mimetype": "text/x-python",
   "name": "python",
   "nbconvert_exporter": "python",
   "pygments_lexer": "ipython3",
   "version": "3.8.8"
  }
 },
 "nbformat": 4,
 "nbformat_minor": 5
}
